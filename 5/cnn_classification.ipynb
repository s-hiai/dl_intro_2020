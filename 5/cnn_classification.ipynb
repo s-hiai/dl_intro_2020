{
 "cells": [
  {
   "cell_type": "markdown",
   "metadata": {},
   "source": [
    "## CNNによる分類\n",
    "torch.nn.Embeddingで単語をembeddingにした後CNNに入力 <br />\n",
    " - CNNの処理 <br />\n",
    "  - 畳み込み：torch.nn.Conv2dを利用 <br />\n",
    "  - プーリング：nn.functional.max_pool1dを利用 <br />"
   ]
  },
  {
   "cell_type": "markdown",
   "metadata": {},
   "source": [
    "### データの読み込みと整形\n",
    "単語分割 -> 各単語をidに変換"
   ]
  },
  {
   "cell_type": "code",
   "execution_count": 3,
   "metadata": {},
   "outputs": [],
   "source": [
    "from data import Corpus # 自作クラス\n",
    "dataset = Corpus(\"text_data.txt\")\n",
    "vocab_size = len(dataset.word_to_id_dict) # 総語彙数 (入力サイズ)\n",
    "output_size = len(dataset.label_to_id_dict) # ラベル数 (出力サイズ)"
   ]
  },
  {
   "cell_type": "markdown",
   "metadata": {},
   "source": [
    "### CNNによるミニバッチ処理のための前処理\n",
    "ミニバッチ処理ではすべてのデータを同様に処理したいので，<br />\n",
    "系列長を合わせるためにゼロ埋め（パディング）する．<br />"
   ]
  },
  {
   "cell_type": "code",
   "execution_count": 25,
   "metadata": {},
   "outputs": [
    {
     "data": {
      "text/plain": [
       "tensor([[ 4,  5,  6,  7,  8,  0,  0,  0],\n",
       "        [ 9, 10, 11, 12, 13, 14, 15, 16],\n",
       "        [17, 18, 10, 19, 20,  6,  0,  0],\n",
       "        [21, 22, 23, 10, 19,  0,  0,  0],\n",
       "        [24, 25, 26, 27, 28, 29,  0,  0],\n",
       "        [30, 10, 14, 31, 32,  0,  0,  0]])"
      ]
     },
     "execution_count": 25,
     "metadata": {},
     "output_type": "execute_result"
    }
   ],
   "source": [
    "import torch\n",
    "from torch import nn\n",
    "\n",
    "pad_sentence_list = nn.utils.rnn.pad_sequence([torch.tensor(sentence.word_id_list) for sentence in dataset.train_sentence_list], batch_first=True)\n",
    "pad_sentence_list"
   ]
  },
  {
   "cell_type": "markdown",
   "metadata": {},
   "source": [
    "### Embedding層の定義"
   ]
  },
  {
   "cell_type": "code",
   "execution_count": 26,
   "metadata": {},
   "outputs": [],
   "source": [
    "embedding_size = 5\n",
    "embeddings = nn.Embedding(vocab_size, embedding_size, padding_idx=0)"
   ]
  },
  {
   "cell_type": "markdown",
   "metadata": {},
   "source": [
    "### Embedding層への入力"
   ]
  },
  {
   "cell_type": "code",
   "execution_count": 27,
   "metadata": {},
   "outputs": [],
   "source": [
    "sentence_embeds = embeddings(pad_sentence_list) "
   ]
  },
  {
   "cell_type": "markdown",
   "metadata": {},
   "source": [
    "### CNN入力のためのEmbeddingのreshape"
   ]
  },
  {
   "cell_type": "code",
   "execution_count": 28,
   "metadata": {},
   "outputs": [
    {
     "name": "stdout",
     "output_type": "stream",
     "text": [
      "reshape前 torch.Size([6, 8, 5])\n",
      "reshape後 torch.Size([6, 1, 8, 5])\n"
     ]
    }
   ],
   "source": [
    "print(\"reshape前\", sentence_embeds.size())\n",
    "sentence_embeds = sentence_embeds.unsqueeze(1)\n",
    "print(\"reshape後\", sentence_embeds.size())"
   ]
  },
  {
   "cell_type": "markdown",
   "metadata": {},
   "source": [
    "### CNNへの入力\n",
    "#### 畳み込み: nn.Conv2dを利用"
   ]
  },
  {
   "cell_type": "code",
   "execution_count": 33,
   "metadata": {},
   "outputs": [
    {
     "name": "stdout",
     "output_type": "stream",
     "text": [
      "畳み込みのための重みテンソルのサイズ torch.Size([5, 1, 3, 5])\n",
      "畳み込みのためのバイアステンソルのサイズ torch.Size([5])\n"
     ]
    }
   ],
   "source": [
    "# nn.Conv2dの定義\n",
    "kernel_size = 3\n",
    "out_channels = 5\n",
    "convs = nn.Conv2d(1, out_channels, (kernel_size, embedding_size))\n",
    "print(\"畳み込みのための重みテンソルのサイズ\", convs.weight.size())\n",
    "print(\"畳み込みのためのバイアステンソルのサイズ\", convs.bias.size())"
   ]
  },
  {
   "cell_type": "markdown",
   "metadata": {},
   "source": [
    "<br />\n",
    "<img src=\"figures/conv2d.jpg\" width=\"720px\" align=\"left\"><br clear=\"all\" />\n",
    "<br />"
   ]
  },
  {
   "cell_type": "code",
   "execution_count": 52,
   "metadata": {},
   "outputs": [
    {
     "name": "stdout",
     "output_type": "stream",
     "text": [
      "torch.Size([6, 5, 6, 1]) \n",
      "=> [バッチサイズ, out_channels, kernelによって切り取られる数, 1]\n",
      "単語数 : 8 でkernel_size : 3 のとき切り取られる数 : 6\n"
     ]
    }
   ],
   "source": [
    "conv_outputs = convs(sentence_embeds)\n",
    "print(conv_outputs.size(), \"\\n=> [バッチサイズ, out_channels, kernelによって切り取られる数, 1]\")\n",
    "print(\"単語数 : {} でkernel_size : {} のとき切り取られる数 : {}\".format(sentence_embeds.size(2), kernel_size, sentence_embeds.size(2)-kernel_size+1))"
   ]
  },
  {
   "cell_type": "code",
   "execution_count": 58,
   "metadata": {},
   "outputs": [
    {
     "name": "stdout",
     "output_type": "stream",
     "text": [
      "torch.Size([6, 5, 6, 1])\n"
     ]
    }
   ],
   "source": [
    "# 結果に活性化関数を適用\n",
    "tanh_conv_outputs = torch.tanh(conv_outputs)\n",
    "print(tanh_conv_outputs.size())"
   ]
  },
  {
   "cell_type": "markdown",
   "metadata": {},
   "source": [
    "#### プーリング: nn.functional.max_pool1dを利用"
   ]
  },
  {
   "cell_type": "code",
   "execution_count": 59,
   "metadata": {},
   "outputs": [
    {
     "name": "stdout",
     "output_type": "stream",
     "text": [
      "torch.Size([6, 5, 6])\n"
     ]
    }
   ],
   "source": [
    "tanh_conv_outputs = tanh_conv_outputs.squeeze(3) # pool1d入力のための整形\n",
    "print(tanh_conv_outputs.size())\n",
    "pooled = nn.functional.max_pool1d(tanh_conv_outputs, tanh_conv_outputs.size(2)).squeeze(2)"
   ]
  },
  {
   "cell_type": "markdown",
   "metadata": {},
   "source": [
    "#### dropoutの適用と出力層への入力"
   ]
  },
  {
   "cell_type": "code",
   "execution_count": 63,
   "metadata": {},
   "outputs": [],
   "source": [
    "# dropout層の定義\n",
    "dropout = nn.Dropout()\n",
    "# 出力層の定義\n",
    "output_linear = nn.Linear(1*out_channels, output_size)"
   ]
  },
  {
   "cell_type": "code",
   "execution_count": 67,
   "metadata": {},
   "outputs": [
    {
     "name": "stdout",
     "output_type": "stream",
     "text": [
      "tensor([[ 0.3329, -0.3019],\n",
      "        [ 0.4947, -0.5262],\n",
      "        [ 0.5466, -0.5484],\n",
      "        [ 0.3540, -0.2262],\n",
      "        [ 0.4564, -0.3188],\n",
      "        [ 0.0210, -0.1269]], grad_fn=<AddmmBackward>)\n"
     ]
    }
   ],
   "source": [
    "pooled_dropout = dropout(pooled)\n",
    "output = output_linear(pooled_dropout)\n",
    "print(output) # 6データ（1バッチ）の出力 "
   ]
  },
  {
   "cell_type": "code",
   "execution_count": null,
   "metadata": {},
   "outputs": [],
   "source": []
  }
 ],
 "metadata": {
  "kernelspec": {
   "display_name": "Python 3",
   "language": "python",
   "name": "python3"
  },
  "language_info": {
   "codemirror_mode": {
    "name": "ipython",
    "version": 3
   },
   "file_extension": ".py",
   "mimetype": "text/x-python",
   "name": "python",
   "nbconvert_exporter": "python",
   "pygments_lexer": "ipython3",
   "version": "3.6.6"
  }
 },
 "nbformat": 4,
 "nbformat_minor": 2
}
