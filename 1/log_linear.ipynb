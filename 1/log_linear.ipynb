{
 "cells": [
  {
   "cell_type": "markdown",
   "metadata": {},
   "source": [
    "## 対数線形モデルクラスの定義"
   ]
  },
  {
   "cell_type": "code",
   "execution_count": 52,
   "metadata": {},
   "outputs": [],
   "source": [
    "import torch\n",
    "from torch import nn\n",
    "from torch import optim\n",
    "\n",
    "class LogLinear(nn.Module):\n",
    "    \"\"\"\n",
    "    対数線形モデルクラス\n",
    "    \"\"\"\n",
    "    def __init__(self):\n",
    "        super(LogLinear, self).__init__()\n",
    "        self.linear = nn.Linear(3, 3) # wx+b 初期パラメータはランダム\n",
    "\n",
    "        # パラメータの設定\n",
    "        self.linear.weight = torch.nn.Parameter(torch.Tensor([[0.1, -0.3, -0.2], [-0.4, -0.1, 0.7], [-0.3, 0.4, 0.1]]))\n",
    "        self.linear.bias = torch.nn.Parameter(torch.Tensor([0.4, 0.5, -0.1]))\n",
    "\n",
    "        # 損失関数\n",
    "        self.loss_func = nn.CrossEntropyLoss()\n",
    "\n",
    "        \n",
    "    def forward(self, input_vector):\n",
    "        \"\"\"\n",
    "        順伝搬\n",
    "        :param input_vector: 入力ベクトル\n",
    "        :return wx: モデルの出力\n",
    "        :return prob: 各クラスの確率値\n",
    "        \"\"\"\n",
    "        wx = self.linear(input_vector)\n",
    "        prob = nn.functional.softmax(wx, dim=1)\n",
    "        return wx, prob\n",
    "\n",
    "    \n",
    "    def forward_loss(self, input_vector, label):\n",
    "        \"\"\"\n",
    "        順伝搬 + 損失計算\n",
    "        :param input_vector: 入力ベクトル\n",
    "        :return loss:損失\n",
    "        \"\"\"\n",
    "        wx, prob = self.forward(input_vector)\n",
    "        loss = self.loss_func(wx, label)\n",
    "        return loss"
   ]
  },
  {
   "cell_type": "code",
   "execution_count": 67,
   "metadata": {},
   "outputs": [],
   "source": [
    "# モデルのインスタンス\n",
    "log_linear_model = LogLinear()"
   ]
  },
  {
   "cell_type": "markdown",
   "metadata": {},
   "source": [
    "## 最急勾配法による最適化"
   ]
  },
  {
   "cell_type": "code",
   "execution_count": 68,
   "metadata": {},
   "outputs": [],
   "source": [
    "# 損失の最小化\n",
    "op = optim.SGD(log_linear_model.parameters(), lr=1.0) # lr:learning rate (学習率)"
   ]
  },
  {
   "cell_type": "code",
   "execution_count": 69,
   "metadata": {},
   "outputs": [
    {
     "data": {
      "text/plain": [
       "[Parameter containing:\n",
       " tensor([[ 0.1000, -0.3000, -0.2000],\n",
       "         [-0.4000, -0.1000,  0.7000],\n",
       "         [-0.3000,  0.4000,  0.1000]], requires_grad=True),\n",
       " Parameter containing:\n",
       " tensor([ 0.4000,  0.5000, -0.1000], requires_grad=True)]"
      ]
     },
     "execution_count": 69,
     "metadata": {},
     "output_type": "execute_result"
    }
   ],
   "source": [
    "# SGDの引数にはlog_linear中の学習パラメータ一覧を渡している\n",
    "list(log_linear_model.parameters())"
   ]
  },
  {
   "cell_type": "markdown",
   "metadata": {},
   "source": [
    "## 順伝搬"
   ]
  },
  {
   "cell_type": "code",
   "execution_count": 70,
   "metadata": {},
   "outputs": [],
   "source": [
    "# 入力とラベル\n",
    "input_vector = torch.tensor([[2, 3, 4]], dtype=torch.float)\n",
    "label = torch.tensor([2], dtype=torch.long)"
   ]
  },
  {
   "cell_type": "code",
   "execution_count": 71,
   "metadata": {},
   "outputs": [],
   "source": [
    "# 順伝搬と損失計算\n",
    "loss = log_linear_model.forward_loss(input_vector, label)"
   ]
  },
  {
   "cell_type": "markdown",
   "metadata": {},
   "source": [
    "## 逆伝搬"
   ]
  },
  {
   "cell_type": "code",
   "execution_count": 72,
   "metadata": {},
   "outputs": [],
   "source": [
    "# 逆伝搬 (勾配の設定)\n",
    "loss.backward()"
   ]
  },
  {
   "cell_type": "code",
   "execution_count": 73,
   "metadata": {},
   "outputs": [
    {
     "name": "stdout",
     "output_type": "stream",
     "text": [
      "tensor([[ 0.0563,  0.0845,  0.1127],\n",
      "        [ 1.5274,  2.2911,  3.0548],\n",
      "        [-1.5837, -2.3756, -3.1675]])\n",
      "tensor([ 0.0282,  0.7637, -0.7919])\n"
     ]
    }
   ],
   "source": [
    "# 勾配の確認\n",
    "print(log_linear_model.linear.weight.grad)\n",
    "print(log_linear_model.linear.bias.grad)"
   ]
  },
  {
   "cell_type": "markdown",
   "metadata": {},
   "source": [
    "## パラメータ更新\n",
    "$ w_{new} = w + lr * w_{grad}$"
   ]
  },
  {
   "cell_type": "code",
   "execution_count": 77,
   "metadata": {},
   "outputs": [
    {
     "name": "stdout",
     "output_type": "stream",
     "text": [
      "Parameter containing:\n",
      "tensor([[ 0.0437, -0.3845, -0.3127],\n",
      "        [-1.9274, -2.3911, -2.3548],\n",
      "        [ 1.2837,  2.7756,  3.2675]], requires_grad=True)\n",
      "Parameter containing:\n",
      "tensor([ 0.3718, -0.2637,  0.6919], requires_grad=True)\n"
     ]
    }
   ],
   "source": [
    "# 更新前パラメータの確認\n",
    "print(log_linear_model.linear.weight)\n",
    "print(log_linear_model.linear.bias)"
   ]
  },
  {
   "cell_type": "code",
   "execution_count": 78,
   "metadata": {},
   "outputs": [],
   "source": [
    "# gradに基づくパラメータ更新\n",
    "op.step()"
   ]
  },
  {
   "cell_type": "code",
   "execution_count": 79,
   "metadata": {},
   "outputs": [
    {
     "name": "stdout",
     "output_type": "stream",
     "text": [
      "Parameter containing:\n",
      "tensor([[-0.0127, -0.4690, -0.4253],\n",
      "        [-3.4548, -4.6822, -5.4096],\n",
      "        [ 2.8675,  5.1512,  6.4349]], requires_grad=True)\n",
      "Parameter containing:\n",
      "tensor([ 0.3437, -1.0274,  1.4837], requires_grad=True)\n"
     ]
    }
   ],
   "source": [
    "# 更新後パラメータの確認\n",
    "print(log_linear_model.linear.weight)\n",
    "print(log_linear_model.linear.bias)"
   ]
  },
  {
   "cell_type": "code",
   "execution_count": 80,
   "metadata": {},
   "outputs": [],
   "source": [
    "# 勾配の消去\n",
    "log_linear_model.zero_grad()"
   ]
  },
  {
   "cell_type": "markdown",
   "metadata": {},
   "source": [
    "## 学習：勾配に基づくパラメータ更新の繰り返し\n",
    "順伝搬 -> 損失計算 -> 逆伝搬 -> 勾配計算 -> パラメータ更新 -> 順伝搬 -> ・・・"
   ]
  },
  {
   "cell_type": "code",
   "execution_count": 83,
   "metadata": {},
   "outputs": [
    {
     "name": "stdout",
     "output_type": "stream",
     "text": [
      "epoch:  0\n",
      "loss tensor(0., grad_fn=<NllLossBackward>)\n",
      "更新前パラメータ\n",
      "Parameter containing:\n",
      "tensor([[-0.0127, -0.4690, -0.4253],\n",
      "        [-3.4548, -4.6822, -5.4096],\n",
      "        [ 2.8675,  5.1512,  6.4349]], requires_grad=True)\n",
      "Parameter containing:\n",
      "tensor([ 0.3437, -1.0274,  1.4837], requires_grad=True)\n",
      "勾配\n",
      "tensor([[1.1594e-22, 1.7391e-22, 2.3188e-22],\n",
      "        [2.1437e-40, 3.2155e-40, 4.2873e-40],\n",
      "        [0.0000e+00, 0.0000e+00, 0.0000e+00]])\n",
      "tensor([5.7970e-23, 1.0718e-40, 0.0000e+00])\n",
      "更新後パラメータ\n",
      "Parameter containing:\n",
      "tensor([[-0.0127, -0.4690, -0.4253],\n",
      "        [-3.4548, -4.6822, -5.4096],\n",
      "        [ 2.8675,  5.1512,  6.4349]], requires_grad=True)\n",
      "Parameter containing:\n",
      "tensor([ 0.3437, -1.0274,  1.4837], requires_grad=True)\n",
      "==========\n",
      "epoch:  1\n",
      "loss tensor(0., grad_fn=<NllLossBackward>)\n",
      "更新前パラメータ\n",
      "Parameter containing:\n",
      "tensor([[-0.0127, -0.4690, -0.4253],\n",
      "        [-3.4548, -4.6822, -5.4096],\n",
      "        [ 2.8675,  5.1512,  6.4349]], requires_grad=True)\n",
      "Parameter containing:\n",
      "tensor([ 0.3437, -1.0274,  1.4837], requires_grad=True)\n",
      "勾配\n",
      "tensor([[1.1594e-22, 1.7391e-22, 2.3188e-22],\n",
      "        [2.1437e-40, 3.2155e-40, 4.2873e-40],\n",
      "        [0.0000e+00, 0.0000e+00, 0.0000e+00]])\n",
      "tensor([5.7970e-23, 1.0718e-40, 0.0000e+00])\n",
      "更新後パラメータ\n",
      "Parameter containing:\n",
      "tensor([[-0.0127, -0.4690, -0.4253],\n",
      "        [-3.4548, -4.6822, -5.4096],\n",
      "        [ 2.8675,  5.1512,  6.4349]], requires_grad=True)\n",
      "Parameter containing:\n",
      "tensor([ 0.3437, -1.0274,  1.4837], requires_grad=True)\n",
      "==========\n",
      "epoch:  2\n",
      "loss tensor(0., grad_fn=<NllLossBackward>)\n",
      "更新前パラメータ\n",
      "Parameter containing:\n",
      "tensor([[-0.0127, -0.4690, -0.4253],\n",
      "        [-3.4548, -4.6822, -5.4096],\n",
      "        [ 2.8675,  5.1512,  6.4349]], requires_grad=True)\n",
      "Parameter containing:\n",
      "tensor([ 0.3437, -1.0274,  1.4837], requires_grad=True)\n",
      "勾配\n",
      "tensor([[1.1594e-22, 1.7391e-22, 2.3188e-22],\n",
      "        [2.1437e-40, 3.2155e-40, 4.2873e-40],\n",
      "        [0.0000e+00, 0.0000e+00, 0.0000e+00]])\n",
      "tensor([5.7970e-23, 1.0718e-40, 0.0000e+00])\n",
      "更新後パラメータ\n",
      "Parameter containing:\n",
      "tensor([[-0.0127, -0.4690, -0.4253],\n",
      "        [-3.4548, -4.6822, -5.4096],\n",
      "        [ 2.8675,  5.1512,  6.4349]], requires_grad=True)\n",
      "Parameter containing:\n",
      "tensor([ 0.3437, -1.0274,  1.4837], requires_grad=True)\n",
      "==========\n"
     ]
    }
   ],
   "source": [
    "for epoch in range(3): # 今回は3回に設定　普通100など収束のために十分な数を設定\n",
    "    print(\"epoch: \", epoch)\n",
    "\n",
    "    # 順伝搬と損失計算\n",
    "    loss = log_linear_model.forward_loss(input_vector, label)\n",
    "    print(\"loss\",loss)\n",
    "\n",
    "    # パラメータの確認\n",
    "    print(\"更新前パラメータ\")\n",
    "    print(log_linear_model.linear.weight)\n",
    "    print(log_linear_model.linear.bias)\n",
    "\n",
    "    # 逆伝搬 (勾配の設定)\n",
    "    loss.backward()\n",
    "\n",
    "    # 勾配の確認\n",
    "    print(\"勾配\")\n",
    "    print(log_linear_model.linear.weight.grad)\n",
    "    print(log_linear_model.linear.bias.grad)\n",
    "\n",
    "    # パラメータの更新\n",
    "    op.step()\n",
    "\n",
    "    # 勾配の消去\n",
    "    log_linear_model.zero_grad()\n",
    "\n",
    "    # パラメータの確認\n",
    "    print(\"更新後パラメータ\")\n",
    "    print(log_linear_model.linear.weight)\n",
    "    print(log_linear_model.linear.bias)\n",
    "    print(\"=\"*10)\n"
   ]
  },
  {
   "cell_type": "code",
   "execution_count": null,
   "metadata": {},
   "outputs": [],
   "source": []
  }
 ],
 "metadata": {
  "kernelspec": {
   "display_name": "Python 3",
   "language": "python",
   "name": "python3"
  },
  "language_info": {
   "codemirror_mode": {
    "name": "ipython",
    "version": 3
   },
   "file_extension": ".py",
   "mimetype": "text/x-python",
   "name": "python",
   "nbconvert_exporter": "python",
   "pygments_lexer": "ipython3",
   "version": "3.6.6"
  }
 },
 "nbformat": 4,
 "nbformat_minor": 2
}
