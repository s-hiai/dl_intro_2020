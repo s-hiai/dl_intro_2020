{
 "cells": [
  {
   "cell_type": "markdown",
   "metadata": {},
   "source": [
    "## Dropoutありのモデルの定義\n",
    "nn.Dropoutを利用"
   ]
  },
  {
   "cell_type": "code",
   "execution_count": 7,
   "metadata": {},
   "outputs": [],
   "source": [
    "import random\n",
    "\n",
    "import torch\n",
    "import torch.utils.data\n",
    "from torch import nn\n",
    "from torch import optim\n",
    "\n",
    "class MultiLayer(nn.Module):\n",
    "    \"\"\"\n",
    "    多層モデルクラス\n",
    "    \"\"\"\n",
    "    def __init__(self):\n",
    "        super(MultiLayer, self).__init__()\n",
    "        self.linear1 = torch.nn.Linear(10, 1) # wx+b 初期パラメータはランダム\n",
    "\n",
    "        # dropoutの追加\n",
    "        self.dropout = nn.Dropout(p=0.5) # p:dropout対象のパラメータの割合\n",
    "        \n",
    "        # 損失関数\n",
    "        self.loss_func = nn.MSELoss()\n",
    "\n",
    "        \n",
    "    def forward(self, input_vector):\n",
    "        \"\"\"\n",
    "        順伝搬\n",
    "        :param input_vector: 入力ベクトル\n",
    "        :return tanh_w3x: モデルの出力\n",
    "        \"\"\"\n",
    "        w1x = self.linear1(input_vector)\n",
    "        print(\"dropout前: \",w1x)\n",
    "        w1x = self.dropout(w1x)\n",
    "        print(\"dropout後: \",w1x)\n",
    "        return w1x\n",
    "\n",
    "    \n",
    "    def forward_loss(self, input_vector, target_values):\n",
    "        \"\"\"\n",
    "        順伝搬 + 損失計算\n",
    "        :param input_vector: 入力ベクトル\n",
    "        :param target_values: 正解の値\n",
    "        :return loss:損失\n",
    "        \"\"\"\n",
    "        wx = self.forward(input_vector)\n",
    "        loss = self.loss_func(wx, target_values)\n",
    "        return loss\n"
   ]
  },
  {
   "cell_type": "code",
   "execution_count": 5,
   "metadata": {},
   "outputs": [],
   "source": [
    "# モデルのインスタンス\n",
    "multi_layer_model = MultiLayer()"
   ]
  },
  {
   "cell_type": "markdown",
   "metadata": {},
   "source": [
    "### 学習"
   ]
  },
  {
   "cell_type": "code",
   "execution_count": 6,
   "metadata": {},
   "outputs": [
    {
     "name": "stdout",
     "output_type": "stream",
     "text": [
      "epoch:  0\n"
     ]
    },
    {
     "ename": "NameError",
     "evalue": "name 'train_data' is not defined",
     "output_type": "error",
     "traceback": [
      "\u001b[0;31m---------------------------------------------------------------------------\u001b[0m",
      "\u001b[0;31mNameError\u001b[0m                                 Traceback (most recent call last)",
      "\u001b[0;32m<ipython-input-6-c808f08e31b9>\u001b[0m in \u001b[0;36m<module>\u001b[0;34m()\u001b[0m\n\u001b[1;32m      3\u001b[0m \u001b[0;34m\u001b[0m\u001b[0m\n\u001b[1;32m      4\u001b[0m     \u001b[0;31m# ミニバッチ学習のためのデータローダー\u001b[0m\u001b[0;34m\u001b[0m\u001b[0;34m\u001b[0m\u001b[0m\n\u001b[0;32m----> 5\u001b[0;31m     \u001b[0mtrain_data_loader\u001b[0m \u001b[0;34m=\u001b[0m \u001b[0mtorch\u001b[0m\u001b[0;34m.\u001b[0m\u001b[0mutils\u001b[0m\u001b[0;34m.\u001b[0m\u001b[0mdata\u001b[0m\u001b[0;34m.\u001b[0m\u001b[0mDataLoader\u001b[0m\u001b[0;34m(\u001b[0m\u001b[0mtrain_data\u001b[0m\u001b[0;34m,\u001b[0m \u001b[0mbatch_size\u001b[0m\u001b[0;34m=\u001b[0m\u001b[0mminibatch_size\u001b[0m\u001b[0;34m,\u001b[0m \u001b[0mshuffle\u001b[0m\u001b[0;34m=\u001b[0m\u001b[0;32mTrue\u001b[0m\u001b[0;34m)\u001b[0m\u001b[0;34m\u001b[0m\u001b[0m\n\u001b[0m\u001b[1;32m      6\u001b[0m \u001b[0;34m\u001b[0m\u001b[0m\n\u001b[1;32m      7\u001b[0m     \u001b[0;31m# ミニバッチごとに逆伝搬とパラメータ更新\u001b[0m\u001b[0;34m\u001b[0m\u001b[0;34m\u001b[0m\u001b[0m\n",
      "\u001b[0;31mNameError\u001b[0m: name 'train_data' is not defined"
     ]
    }
   ],
   "source": [
    "for epoch in range(3):\n",
    "    print(\"epoch: \", epoch)\n",
    "\n",
    "    # ミニバッチ学習のためのデータローダー\n",
    "    train_data_loader = torch.utils.data.DataLoader(train_data, batch_size=minibatch_size, shuffle=True)\n",
    "\n",
    "    # ミニバッチごとに逆伝搬とパラメータ更新\n",
    "    # イテレーション\n",
    "    for batch_no, (batch_input_vector, batch_target_values) in enumerate(train_data_loader):            \n",
    "        # 順伝搬と損失計算\n",
    "        loss = multi_layer_model.forward_loss(batch_input_vector, batch_target_values)\n",
    "        print(\"batch_no: {}/{} loss: {}\".format(batch_no+1, max_batch_no, loss))\n",
    "\n",
    "\n",
    "        # 逆伝搬 (勾配の設定)\n",
    "        loss.backward()\n",
    "\n",
    "        # パラメータの更新\n",
    "        op.step()\n",
    "\n",
    "        # 勾配の消去\n",
    "        multi_layer_model.zero_grad()\n",
    "\n",
    "\n",
    "    print(\"=\"*10)"
   ]
  },
  {
   "cell_type": "code",
   "execution_count": null,
   "metadata": {},
   "outputs": [],
   "source": []
  }
 ],
 "metadata": {
  "kernelspec": {
   "display_name": "Python 3",
   "language": "python",
   "name": "python3"
  },
  "language_info": {
   "codemirror_mode": {
    "name": "ipython",
    "version": 3
   },
   "file_extension": ".py",
   "mimetype": "text/x-python",
   "name": "python",
   "nbconvert_exporter": "python",
   "pygments_lexer": "ipython3",
   "version": "3.6.6"
  }
 },
 "nbformat": 4,
 "nbformat_minor": 2
}
