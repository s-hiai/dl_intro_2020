{
 "cells": [
  {
   "cell_type": "markdown",
   "metadata": {},
   "source": [
    "## 多層ニューラルモデルクラスの定義\n",
    "多層パーセプトロン (Multi Layer Perceptron, MLP) とも呼ばれる"
   ]
  },
  {
   "cell_type": "code",
   "execution_count": 25,
   "metadata": {},
   "outputs": [],
   "source": [
    "import torch\n",
    "from torch import nn\n",
    "from torch import optim\n",
    "\n",
    "class MultiLayer(nn.Module):\n",
    "    \"\"\"\n",
    "    多層モデルクラス\n",
    "    \"\"\"\n",
    "    def __init__(self):\n",
    "        super(MultiLayer, self).__init__()\n",
    "        self.linear1 = torch.nn.Linear(1, 1) # wx+b 初期パラメータはランダム\n",
    "        self.linear2 = torch.nn.Linear(1, 1)\n",
    "        self.linear3 = torch.nn.Linear(1, 1)\n",
    "\n",
    "        # 損失関数\n",
    "        self.loss_func = nn.MSELoss()\n",
    "\n",
    "        \n",
    "    def forward(self, input_vector):\n",
    "        \"\"\"\n",
    "        順伝搬\n",
    "        :param input_vector: 入力ベクトル\n",
    "        :return tanh_w3x: モデルの出力\n",
    "        \"\"\"\n",
    "        w1x = self.linear1(input_vector)\n",
    "        tanh_w1x = torch.tanh(w1x) # torch.nn.functional.tanhはdeprecated\n",
    "        w2x = self.linear2(tanh_w1x)\n",
    "        tanh_w2x = torch.tanh(w2x) \n",
    "        w3x = self.linear3(tanh_w2x)\n",
    "        tanh_w3x = torch.tanh(w3x)\n",
    "        return tanh_w3x\n",
    "\n",
    "    \n",
    "    def forward_loss(self, input_vector, target_values):\n",
    "        \"\"\"\n",
    "        順伝搬 + 損失計算\n",
    "        :param input_vector: 入力ベクトル\n",
    "        :param target_values: 正解の値\n",
    "        :return loss:損失\n",
    "        \"\"\"\n",
    "        wx = self.forward(input_vector)\n",
    "        loss = self.loss_func(wx, target_values)\n",
    "        return loss"
   ]
  },
  {
   "cell_type": "code",
   "execution_count": 26,
   "metadata": {},
   "outputs": [],
   "source": [
    "# モデルのインスタンス\n",
    "multi_layer_model = MultiLayer()"
   ]
  },
  {
   "cell_type": "markdown",
   "metadata": {},
   "source": [
    "## 最急勾配法による最適化"
   ]
  },
  {
   "cell_type": "code",
   "execution_count": 27,
   "metadata": {},
   "outputs": [],
   "source": [
    "op = optim.SGD(multi_layer_model.parameters(), lr=0.1) # lr:learning rate (学習率)"
   ]
  },
  {
   "cell_type": "markdown",
   "metadata": {},
   "source": [
    "## 順伝搬"
   ]
  },
  {
   "cell_type": "code",
   "execution_count": 28,
   "metadata": {},
   "outputs": [],
   "source": [
    "# 入力と正解\n",
    "input_vector = torch.rand(5, 1)\n",
    "target_values = torch.reshape(torch.tensor([[i[0]+1 for i in input_vector]]), (5, 1))"
   ]
  },
  {
   "cell_type": "code",
   "execution_count": 29,
   "metadata": {},
   "outputs": [
    {
     "name": "stdout",
     "output_type": "stream",
     "text": [
      "tensor(4.5501, grad_fn=<MseLossBackward>)\n"
     ]
    }
   ],
   "source": [
    "# 順伝搬と損失計算\n",
    "loss = multi_layer_model.forward_loss(input_vector, target_values)\n",
    "print(loss)"
   ]
  },
  {
   "cell_type": "markdown",
   "metadata": {},
   "source": [
    "## 逆伝搬"
   ]
  },
  {
   "cell_type": "code",
   "execution_count": 30,
   "metadata": {},
   "outputs": [],
   "source": [
    "# 逆伝搬 (勾配の設定)\n",
    "loss.backward()"
   ]
  },
  {
   "cell_type": "code",
   "execution_count": 35,
   "metadata": {},
   "outputs": [
    {
     "name": "stdout",
     "output_type": "stream",
     "text": [
      "tensor([[0.0033]])\n",
      "tensor([0.0087])\n",
      "tensor([[0.0277]])\n",
      "tensor([-0.4345])\n",
      "tensor([[-0.1025]])\n",
      "tensor([-1.8307])\n"
     ]
    }
   ],
   "source": [
    "# 勾配の確認\n",
    "print(multi_layer_model.linear1.weight.grad)\n",
    "print(multi_layer_model.linear1.bias.grad)\n",
    "print(multi_layer_model.linear2.weight.grad)\n",
    "print(multi_layer_model.linear2.bias.grad)\n",
    "print(multi_layer_model.linear3.weight.grad)\n",
    "print(multi_layer_model.linear3.bias.grad)"
   ]
  },
  {
   "cell_type": "markdown",
   "metadata": {},
   "source": [
    "## パラメータ更新"
   ]
  },
  {
   "cell_type": "code",
   "execution_count": 32,
   "metadata": {},
   "outputs": [
    {
     "name": "stdout",
     "output_type": "stream",
     "text": [
      "Parameter containing:\n",
      "tensor([[-0.5300]], requires_grad=True)\n",
      "Parameter containing:\n",
      "tensor([0.1402], requires_grad=True)\n",
      "Parameter containing:\n",
      "tensor([[-0.0203]], requires_grad=True)\n",
      "Parameter containing:\n",
      "tensor([0.0548], requires_grad=True)\n",
      "Parameter containing:\n",
      "tensor([[0.2381]], requires_grad=True)\n",
      "Parameter containing:\n",
      "tensor([-0.9967], requires_grad=True)\n"
     ]
    }
   ],
   "source": [
    "# 更新前パラメータの確認\n",
    "print(multi_layer_model.linear1.weight)\n",
    "print(multi_layer_model.linear1.bias)\n",
    "print(multi_layer_model.linear2.weight)\n",
    "print(multi_layer_model.linear2.bias)\n",
    "print(multi_layer_model.linear3.weight)\n",
    "print(multi_layer_model.linear3.bias)"
   ]
  },
  {
   "cell_type": "code",
   "execution_count": 33,
   "metadata": {},
   "outputs": [],
   "source": [
    "# gradに基づくパラメータ更新\n",
    "op.step()"
   ]
  },
  {
   "cell_type": "code",
   "execution_count": 34,
   "metadata": {},
   "outputs": [
    {
     "name": "stdout",
     "output_type": "stream",
     "text": [
      "Parameter containing:\n",
      "tensor([[-0.5303]], requires_grad=True)\n",
      "Parameter containing:\n",
      "tensor([0.1394], requires_grad=True)\n",
      "Parameter containing:\n",
      "tensor([[-0.0230]], requires_grad=True)\n",
      "Parameter containing:\n",
      "tensor([0.0982], requires_grad=True)\n",
      "Parameter containing:\n",
      "tensor([[0.2483]], requires_grad=True)\n",
      "Parameter containing:\n",
      "tensor([-0.8136], requires_grad=True)\n"
     ]
    }
   ],
   "source": [
    "# 更新後メータの確認\n",
    "print(multi_layer_model.linear1.weight)\n",
    "print(multi_layer_model.linear1.bias)\n",
    "print(multi_layer_model.linear2.weight)\n",
    "print(multi_layer_model.linear2.bias)\n",
    "print(multi_layer_model.linear3.weight)\n",
    "print(multi_layer_model.linear3.bias)"
   ]
  },
  {
   "cell_type": "code",
   "execution_count": 24,
   "metadata": {},
   "outputs": [],
   "source": [
    "# 勾配の消去\n",
    "multi_layer_model.zero_grad()"
   ]
  },
  {
   "cell_type": "markdown",
   "metadata": {},
   "source": [
    "## 学習：勾配に基づくパラメータ更新の繰り返し\n",
    "順伝搬 -> 損失計算 -> 逆伝搬 -> 勾配計算 -> パラメータ更新 -> 順伝搬 -> ・・・"
   ]
  },
  {
   "cell_type": "code",
   "execution_count": 38,
   "metadata": {},
   "outputs": [],
   "source": [
    "for epoch in range(3):\n",
    "    # 順伝搬と損失計算\n",
    "    loss = multi_layer_model.forward_loss(input_vector, target_values)\n",
    "\n",
    "    # 逆伝搬 (勾配の設定)\n",
    "    loss.backward()\n",
    "  \n",
    "    # パラメータの更新\n",
    "    op.step()\n",
    "\n",
    "    # 勾配の消去\n",
    "    multi_layer_model.zero_grad()\n"
   ]
  },
  {
   "cell_type": "code",
   "execution_count": null,
   "metadata": {},
   "outputs": [],
   "source": []
  }
 ],
 "metadata": {
  "kernelspec": {
   "display_name": "Python 3",
   "language": "python",
   "name": "python3"
  },
  "language_info": {
   "codemirror_mode": {
    "name": "ipython",
    "version": 3
   },
   "file_extension": ".py",
   "mimetype": "text/x-python",
   "name": "python",
   "nbconvert_exporter": "python",
   "pygments_lexer": "ipython3",
   "version": "3.6.6"
  }
 },
 "nbformat": 4,
 "nbformat_minor": 2
}
